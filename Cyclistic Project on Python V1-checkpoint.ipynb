{
 "cells": [
  {
   "cell_type": "markdown",
   "id": "59d7c9e6",
   "metadata": {},
   "source": [
    "# Case study on Cyclistic Bike-Share Company\n",
    "The following case study will answer basic question that will guide business decision making process of stakeholders at Cyclistic Bike-Share company. This case study will be based on the steps of the data analysis process: Ask, Prepare, Process, Analyze, Share and Act.\n",
    "\n",
    "**About the company**\n",
    "\n",
    "Cyclistic is a fictional bike share company that owns 5,824 bicycles that\n",
    "are geotracked and locked into a network of 692 stations across Chicago.\n",
    "\n",
    "## Phase 1 Ask\n",
    "\n",
    "**Stakeholders**\n",
    "\n",
    "- Cyclistic: A bike-share program that features more than 5,800 bicycles and 600 docking stations\n",
    "- Lily Moreno: The director of marketing department\n",
    "- Cyclistic marketing analytics team: A team of data analysts who are responsible for collecting, analyzing, and\n",
    "reporting data\n",
    "- Cyclistic executive team: detail-oriented executive team who decide whether to approve the\n",
    "recommended marketing program.\n",
    "\n",
    "**Research questions**\n",
    "\n",
    "- How do annual members and casual riders use Cyclistic bikes differently?\n",
    "- Why would casual riders buy Cyclistic annual memberships?\n",
    "- How can Cyclistic use digital media to influence casual riders to become members?\n",
    "\n",
    "**Business Task**\n",
    "\n",
    "This case study will answer the first question which is How do annual members and casual riders use Cyclistic bikes\n",
    "differently? So the study will identify and analyze trends in bicycle usage between casual users and members. "
   ]
  },
  {
   "cell_type": "markdown",
   "id": "ccc6ec65",
   "metadata": {},
   "source": [
    "## Phase 2 Prepare\n",
    "\n",
    "**Data Source** \n",
    "\n",
    "The data has been made available by\n",
    "Motivate International Inc. under this license.) This is public data that you can use to explore how different customer types are using Cyclistic bikes.Therefore, we can conclude the data is credible.\n",
    "\n",
    "**Data Limitations** \n",
    "\n",
    "- Very large datast: couldnot process the large data with my laptop and I had to take a represenative sample to get insite.\n",
    "\n",
    "**Importing Libraries**\n",
    "\n",
    "Now let's import all the Python packages that we will be using for our analysis. "
   ]
  },
  {
   "cell_type": "code",
   "execution_count": 1,
   "id": "7d39b0e2",
   "metadata": {},
   "outputs": [],
   "source": [
    "import pandas as pd\n",
    "import matplotlib.pyplot as plt\n",
    "import numpy as np\n",
    "import seaborn as sns\n",
    "import datetime as dt\n",
    "from pandas.api.types import CategoricalDtype"
   ]
  },
  {
   "cell_type": "code",
   "execution_count": 3,
   "id": "9e359e10",
   "metadata": {},
   "outputs": [],
   "source": [
    "df1 = pd.read_csv(\"202101-divvy-tripdata.csv\")\n",
    "df2 = pd.read_csv(\"202102-divvy-tripdata.csv\")\n",
    "df3 = pd.read_csv(\"202103-divvy-tripdata.csv\")\n",
    "df4 = pd.read_csv(\"202104-divvy-tripdata.csv\")\n",
    "df5 = pd.read_csv(\"202105-divvy-tripdata.csv\")\n",
    "df6 = pd.read_csv(\"202106-divvy-tripdata.csv\")\n",
    "df7 = pd.read_csv(\"202107-divvy-tripdata.csv\")\n",
    "df8 = pd.read_csv(\"202108-divvy-tripdata.csv\")\n",
    "df9 = pd.read_csv(\"202109-divvy-tripdata.csv\")\n",
    "df10 = pd.read_csv(\"202110-divvy-tripdata.csv\")\n",
    "df11 = pd.read_csv(\"202111-divvy-tripdata.csv\")\n",
    "df12 = pd.read_csv(\"202112-divvy-tripdata.csv\")"
   ]
  },
  {
   "cell_type": "markdown",
   "id": "3b46ecc0",
   "metadata": {},
   "source": [
    "**Merging Datasets**\n",
    "\n",
    "For the purpose of this analysys, we have to merge the datasets for the tweleve months in to a single one."
   ]
  },
  {
   "cell_type": "code",
   "execution_count": 5,
   "id": "94ca80e1",
   "metadata": {},
   "outputs": [],
   "source": [
    "df_raw = pd.concat([df1, df2, df3, df4, df5, df6, df7, df8, df9, df10, df11, df12])\n",
    "df_raw.reset_index (drop = True, inplace = True)"
   ]
  },
  {
   "cell_type": "code",
   "execution_count": 6,
   "id": "c1e8f427",
   "metadata": {},
   "outputs": [
    {
     "data": {
      "text/html": [
       "<div>\n",
       "<style scoped>\n",
       "    .dataframe tbody tr th:only-of-type {\n",
       "        vertical-align: middle;\n",
       "    }\n",
       "\n",
       "    .dataframe tbody tr th {\n",
       "        vertical-align: top;\n",
       "    }\n",
       "\n",
       "    .dataframe thead th {\n",
       "        text-align: right;\n",
       "    }\n",
       "</style>\n",
       "<table border=\"1\" class=\"dataframe\">\n",
       "  <thead>\n",
       "    <tr style=\"text-align: right;\">\n",
       "      <th></th>\n",
       "      <th>ride_id</th>\n",
       "      <th>rideable_type</th>\n",
       "      <th>started_at</th>\n",
       "      <th>ended_at</th>\n",
       "      <th>start_station_name</th>\n",
       "      <th>start_station_id</th>\n",
       "      <th>end_station_name</th>\n",
       "      <th>end_station_id</th>\n",
       "      <th>start_lat</th>\n",
       "      <th>start_lng</th>\n",
       "      <th>end_lat</th>\n",
       "      <th>end_lng</th>\n",
       "      <th>member_casual</th>\n",
       "    </tr>\n",
       "  </thead>\n",
       "  <tbody>\n",
       "    <tr>\n",
       "      <th>0</th>\n",
       "      <td>E19E6F1B8D4C42ED</td>\n",
       "      <td>electric_bike</td>\n",
       "      <td>2021-01-23 16:14:19</td>\n",
       "      <td>2021-01-23 16:24:44</td>\n",
       "      <td>California Ave &amp; Cortez St</td>\n",
       "      <td>17660</td>\n",
       "      <td>NaN</td>\n",
       "      <td>NaN</td>\n",
       "      <td>41.900341</td>\n",
       "      <td>-87.696743</td>\n",
       "      <td>41.89</td>\n",
       "      <td>-87.72</td>\n",
       "      <td>member</td>\n",
       "    </tr>\n",
       "    <tr>\n",
       "      <th>1</th>\n",
       "      <td>DC88F20C2C55F27F</td>\n",
       "      <td>electric_bike</td>\n",
       "      <td>2021-01-27 18:43:08</td>\n",
       "      <td>2021-01-27 18:47:12</td>\n",
       "      <td>California Ave &amp; Cortez St</td>\n",
       "      <td>17660</td>\n",
       "      <td>NaN</td>\n",
       "      <td>NaN</td>\n",
       "      <td>41.900333</td>\n",
       "      <td>-87.696707</td>\n",
       "      <td>41.90</td>\n",
       "      <td>-87.69</td>\n",
       "      <td>member</td>\n",
       "    </tr>\n",
       "    <tr>\n",
       "      <th>2</th>\n",
       "      <td>EC45C94683FE3F27</td>\n",
       "      <td>electric_bike</td>\n",
       "      <td>2021-01-21 22:35:54</td>\n",
       "      <td>2021-01-21 22:37:14</td>\n",
       "      <td>California Ave &amp; Cortez St</td>\n",
       "      <td>17660</td>\n",
       "      <td>NaN</td>\n",
       "      <td>NaN</td>\n",
       "      <td>41.900313</td>\n",
       "      <td>-87.696643</td>\n",
       "      <td>41.90</td>\n",
       "      <td>-87.70</td>\n",
       "      <td>member</td>\n",
       "    </tr>\n",
       "  </tbody>\n",
       "</table>\n",
       "</div>"
      ],
      "text/plain": [
       "            ride_id  rideable_type           started_at             ended_at  \\\n",
       "0  E19E6F1B8D4C42ED  electric_bike  2021-01-23 16:14:19  2021-01-23 16:24:44   \n",
       "1  DC88F20C2C55F27F  electric_bike  2021-01-27 18:43:08  2021-01-27 18:47:12   \n",
       "2  EC45C94683FE3F27  electric_bike  2021-01-21 22:35:54  2021-01-21 22:37:14   \n",
       "\n",
       "           start_station_name start_station_id end_station_name  \\\n",
       "0  California Ave & Cortez St            17660              NaN   \n",
       "1  California Ave & Cortez St            17660              NaN   \n",
       "2  California Ave & Cortez St            17660              NaN   \n",
       "\n",
       "  end_station_id  start_lat  start_lng  end_lat  end_lng member_casual  \n",
       "0            NaN  41.900341 -87.696743    41.89   -87.72        member  \n",
       "1            NaN  41.900333 -87.696707    41.90   -87.69        member  \n",
       "2            NaN  41.900313 -87.696643    41.90   -87.70        member  "
      ]
     },
     "execution_count": 6,
     "metadata": {},
     "output_type": "execute_result"
    }
   ],
   "source": [
    "df_raw.head(3)"
   ]
  },
  {
   "cell_type": "markdown",
   "id": "5a6840f0",
   "metadata": {},
   "source": [
    "**Creating a new dataset**\n",
    "\n",
    "To focus on answering the business question we will drop irrelevant columns and we will create a new dataset."
   ]
  },
  {
   "cell_type": "code",
   "execution_count": 7,
   "id": "c9d43871",
   "metadata": {},
   "outputs": [],
   "source": [
    "df = df_raw.drop(columns=['start_station_name', 'start_station_id',\n",
    "                      'end_station_name', 'end_station_id', 'start_lat', \n",
    "                      'start_lng', 'end_lat', 'end_lng'])"
   ]
  },
  {
   "cell_type": "code",
   "execution_count": 8,
   "id": "810efc5a",
   "metadata": {
    "scrolled": true
   },
   "outputs": [
    {
     "data": {
      "text/html": [
       "<div>\n",
       "<style scoped>\n",
       "    .dataframe tbody tr th:only-of-type {\n",
       "        vertical-align: middle;\n",
       "    }\n",
       "\n",
       "    .dataframe tbody tr th {\n",
       "        vertical-align: top;\n",
       "    }\n",
       "\n",
       "    .dataframe thead th {\n",
       "        text-align: right;\n",
       "    }\n",
       "</style>\n",
       "<table border=\"1\" class=\"dataframe\">\n",
       "  <thead>\n",
       "    <tr style=\"text-align: right;\">\n",
       "      <th></th>\n",
       "      <th>ride_id</th>\n",
       "      <th>rideable_type</th>\n",
       "      <th>started_at</th>\n",
       "      <th>ended_at</th>\n",
       "      <th>member_casual</th>\n",
       "    </tr>\n",
       "  </thead>\n",
       "  <tbody>\n",
       "    <tr>\n",
       "      <th>0</th>\n",
       "      <td>E19E6F1B8D4C42ED</td>\n",
       "      <td>electric_bike</td>\n",
       "      <td>2021-01-23 16:14:19</td>\n",
       "      <td>2021-01-23 16:24:44</td>\n",
       "      <td>member</td>\n",
       "    </tr>\n",
       "    <tr>\n",
       "      <th>1</th>\n",
       "      <td>DC88F20C2C55F27F</td>\n",
       "      <td>electric_bike</td>\n",
       "      <td>2021-01-27 18:43:08</td>\n",
       "      <td>2021-01-27 18:47:12</td>\n",
       "      <td>member</td>\n",
       "    </tr>\n",
       "    <tr>\n",
       "      <th>2</th>\n",
       "      <td>EC45C94683FE3F27</td>\n",
       "      <td>electric_bike</td>\n",
       "      <td>2021-01-21 22:35:54</td>\n",
       "      <td>2021-01-21 22:37:14</td>\n",
       "      <td>member</td>\n",
       "    </tr>\n",
       "  </tbody>\n",
       "</table>\n",
       "</div>"
      ],
      "text/plain": [
       "            ride_id  rideable_type           started_at             ended_at  \\\n",
       "0  E19E6F1B8D4C42ED  electric_bike  2021-01-23 16:14:19  2021-01-23 16:24:44   \n",
       "1  DC88F20C2C55F27F  electric_bike  2021-01-27 18:43:08  2021-01-27 18:47:12   \n",
       "2  EC45C94683FE3F27  electric_bike  2021-01-21 22:35:54  2021-01-21 22:37:14   \n",
       "\n",
       "  member_casual  \n",
       "0        member  \n",
       "1        member  \n",
       "2        member  "
      ]
     },
     "execution_count": 8,
     "metadata": {},
     "output_type": "execute_result"
    }
   ],
   "source": [
    "df.head(3)"
   ]
  },
  {
   "cell_type": "markdown",
   "id": "cdb0b98a",
   "metadata": {},
   "source": [
    "## Phase 3 Process\n",
    "\n",
    "**Tools Used**\n",
    "\n",
    "Python: Data cleaning, processing, analysis and visualization will be done using Python in Jupyter Notebook\n",
    "\n",
    "#### Data Cleaning\n",
    "\n",
    "Now let's transform the data to do our analysis. The data cleaning process is clearly documented. \n",
    "\n",
    "**Checking number of entries**"
   ]
  },
  {
   "cell_type": "code",
   "execution_count": 9,
   "id": "733bd245",
   "metadata": {
    "scrolled": true
   },
   "outputs": [
    {
     "data": {
      "text/plain": [
       "5595063"
      ]
     },
     "execution_count": 9,
     "metadata": {},
     "output_type": "execute_result"
    }
   ],
   "source": [
    "len(df)"
   ]
  },
  {
   "cell_type": "markdown",
   "id": "34804256",
   "metadata": {},
   "source": [
    "**Downsizing our dataset**\n",
    "\n",
    "There are more than 5 million entries in our dataset and i couldn't process the whole data using my laptop. Therefore, I have to take a representative sample for better results. I used a sample calculator based on the following criterias.\n",
    "\n",
    "- Population size: 5595063\n",
    "- Confidence level: 99% \n",
    "- Margin of Error: 2%  \n",
    "- Our sample size should be: 4157\n",
    "\n",
    "Let's round that up to 4200."
   ]
  },
  {
   "cell_type": "code",
   "execution_count": 10,
   "id": "339065d7",
   "metadata": {},
   "outputs": [],
   "source": [
    "df = df.sample(n=4200)"
   ]
  },
  {
   "cell_type": "code",
   "execution_count": 11,
   "id": "930f39ad",
   "metadata": {},
   "outputs": [
    {
     "data": {
      "text/plain": [
       "4200"
      ]
     },
     "execution_count": 11,
     "metadata": {},
     "output_type": "execute_result"
    }
   ],
   "source": [
    "len(df)"
   ]
  },
  {
   "cell_type": "markdown",
   "id": "49c7cf13",
   "metadata": {},
   "source": [
    "**Checking for null and Nan values.**"
   ]
  },
  {
   "cell_type": "code",
   "execution_count": 12,
   "id": "1d729176",
   "metadata": {},
   "outputs": [
    {
     "data": {
      "text/plain": [
       "ride_id          0\n",
       "rideable_type    0\n",
       "started_at       0\n",
       "ended_at         0\n",
       "member_casual    0\n",
       "dtype: int64"
      ]
     },
     "execution_count": 12,
     "metadata": {},
     "output_type": "execute_result"
    }
   ],
   "source": [
    "df.isna().sum()"
   ]
  },
  {
   "cell_type": "code",
   "execution_count": 13,
   "id": "b422f6d2",
   "metadata": {
    "scrolled": true
   },
   "outputs": [
    {
     "data": {
      "text/plain": [
       "ride_id          0\n",
       "rideable_type    0\n",
       "started_at       0\n",
       "ended_at         0\n",
       "member_casual    0\n",
       "dtype: int64"
      ]
     },
     "execution_count": 13,
     "metadata": {},
     "output_type": "execute_result"
    }
   ],
   "source": [
    "df.isnull().sum()"
   ]
  },
  {
   "cell_type": "markdown",
   "id": "225ef433",
   "metadata": {},
   "source": [
    "**Exploring the structure of the dataset**"
   ]
  },
  {
   "cell_type": "code",
   "execution_count": 14,
   "id": "96ef42a2",
   "metadata": {},
   "outputs": [
    {
     "name": "stdout",
     "output_type": "stream",
     "text": [
      "<class 'pandas.core.frame.DataFrame'>\n",
      "Int64Index: 4200 entries, 5238344 to 3513429\n",
      "Data columns (total 5 columns):\n",
      " #   Column         Non-Null Count  Dtype \n",
      "---  ------         --------------  ----- \n",
      " 0   ride_id        4200 non-null   object\n",
      " 1   rideable_type  4200 non-null   object\n",
      " 2   started_at     4200 non-null   object\n",
      " 3   ended_at       4200 non-null   object\n",
      " 4   member_casual  4200 non-null   object\n",
      "dtypes: object(5)\n",
      "memory usage: 196.9+ KB\n"
     ]
    }
   ],
   "source": [
    "df.info()"
   ]
  },
  {
   "cell_type": "markdown",
   "id": "0f4f940c",
   "metadata": {},
   "source": [
    "**changing to date/time format**\n",
    "\n",
    "Now we are going to change two columns from object type to date/time format."
   ]
  },
  {
   "cell_type": "code",
   "execution_count": 15,
   "id": "b4fb90f1",
   "metadata": {},
   "outputs": [],
   "source": [
    "df['started_at'] = pd.to_datetime(df['started_at'], infer_datetime_format = True)\n",
    "df['ended_at'] = pd.to_datetime(df['ended_at'], infer_datetime_format = True)"
   ]
  },
  {
   "cell_type": "markdown",
   "id": "28218d51",
   "metadata": {},
   "source": [
    "**Adding columns**\n",
    "\n",
    "Now let's add more columns that are needed to answere the business question at hand. First let's add a trip duration column. We can get that by subtracting the the time the trip started from the time the trip ended. "
   ]
  },
  {
   "cell_type": "code",
   "execution_count": 16,
   "id": "467b1f4f",
   "metadata": {},
   "outputs": [],
   "source": [
    "df ['trip_length'] = (df['ended_at'] - df['started_at'])/dt.timedelta(minutes = 1)\n",
    "df['trip_length'] = df['trip_length'].astype('int32')"
   ]
  },
  {
   "cell_type": "markdown",
   "id": "12e48995",
   "metadata": {},
   "source": [
    "Now let's add two more (trip day and trip month) columns. This will help us understand how members and casual riders behave in different seasons and at different times. "
   ]
  },
  {
   "cell_type": "code",
   "execution_count": 17,
   "id": "5e4cc87b",
   "metadata": {},
   "outputs": [],
   "source": [
    "df = df.assign(trip_month = df['started_at'].dt.strftime (\"%B\"), trip_day = df['started_at'].dt.strftime(\"%A\"))"
   ]
  },
  {
   "cell_type": "code",
   "execution_count": 18,
   "id": "f10c8880",
   "metadata": {
    "scrolled": true
   },
   "outputs": [
    {
     "data": {
      "text/html": [
       "<div>\n",
       "<style scoped>\n",
       "    .dataframe tbody tr th:only-of-type {\n",
       "        vertical-align: middle;\n",
       "    }\n",
       "\n",
       "    .dataframe tbody tr th {\n",
       "        vertical-align: top;\n",
       "    }\n",
       "\n",
       "    .dataframe thead th {\n",
       "        text-align: right;\n",
       "    }\n",
       "</style>\n",
       "<table border=\"1\" class=\"dataframe\">\n",
       "  <thead>\n",
       "    <tr style=\"text-align: right;\">\n",
       "      <th></th>\n",
       "      <th>ride_id</th>\n",
       "      <th>rideable_type</th>\n",
       "      <th>started_at</th>\n",
       "      <th>ended_at</th>\n",
       "      <th>member_casual</th>\n",
       "      <th>trip_length</th>\n",
       "      <th>trip_month</th>\n",
       "      <th>trip_day</th>\n",
       "    </tr>\n",
       "  </thead>\n",
       "  <tbody>\n",
       "    <tr>\n",
       "      <th>5238344</th>\n",
       "      <td>8357E8C78590772B</td>\n",
       "      <td>electric_bike</td>\n",
       "      <td>2021-11-19 17:06:17</td>\n",
       "      <td>2021-11-19 17:43:24</td>\n",
       "      <td>member</td>\n",
       "      <td>37</td>\n",
       "      <td>November</td>\n",
       "      <td>Friday</td>\n",
       "    </tr>\n",
       "    <tr>\n",
       "      <th>1837988</th>\n",
       "      <td>3AAB95A5B4C33371</td>\n",
       "      <td>electric_bike</td>\n",
       "      <td>2021-06-07 14:14:19</td>\n",
       "      <td>2021-06-07 14:17:41</td>\n",
       "      <td>member</td>\n",
       "      <td>3</td>\n",
       "      <td>June</td>\n",
       "      <td>Monday</td>\n",
       "    </tr>\n",
       "    <tr>\n",
       "      <th>640281</th>\n",
       "      <td>16329A51D5F57997</td>\n",
       "      <td>electric_bike</td>\n",
       "      <td>2021-04-21 08:50:10</td>\n",
       "      <td>2021-04-21 09:08:29</td>\n",
       "      <td>member</td>\n",
       "      <td>18</td>\n",
       "      <td>April</td>\n",
       "      <td>Wednesday</td>\n",
       "    </tr>\n",
       "  </tbody>\n",
       "</table>\n",
       "</div>"
      ],
      "text/plain": [
       "                  ride_id  rideable_type          started_at  \\\n",
       "5238344  8357E8C78590772B  electric_bike 2021-11-19 17:06:17   \n",
       "1837988  3AAB95A5B4C33371  electric_bike 2021-06-07 14:14:19   \n",
       "640281   16329A51D5F57997  electric_bike 2021-04-21 08:50:10   \n",
       "\n",
       "                   ended_at member_casual  trip_length trip_month   trip_day  \n",
       "5238344 2021-11-19 17:43:24        member           37   November     Friday  \n",
       "1837988 2021-06-07 14:17:41        member            3       June     Monday  \n",
       "640281  2021-04-21 09:08:29        member           18      April  Wednesday  "
      ]
     },
     "execution_count": 18,
     "metadata": {},
     "output_type": "execute_result"
    }
   ],
   "source": [
    "df.head(3)"
   ]
  },
  {
   "cell_type": "markdown",
   "id": "90bc7b8e",
   "metadata": {},
   "source": [
    "**Cheecking for values**\n",
    "\n",
    "Now let's check for negative values."
   ]
  },
  {
   "cell_type": "code",
   "execution_count": 19,
   "id": "72579af2",
   "metadata": {},
   "outputs": [
    {
     "data": {
      "text/plain": [
       "0"
      ]
     },
     "execution_count": 19,
     "metadata": {},
     "output_type": "execute_result"
    }
   ],
   "source": [
    "len(df[df['trip_length']<0])"
   ]
  },
  {
   "cell_type": "code",
   "execution_count": 20,
   "id": "2269e9d0",
   "metadata": {},
   "outputs": [
    {
     "data": {
      "text/plain": [
       "62"
      ]
     },
     "execution_count": 20,
     "metadata": {},
     "output_type": "execute_result"
    }
   ],
   "source": [
    "len(df[df['trip_length']<1])"
   ]
  },
  {
   "cell_type": "markdown",
   "id": "a74c0749",
   "metadata": {},
   "source": [
    "Trip lengths that are bellow one minute are irrelevant for this analysis and are most likely human errors. Therefore, we will drop the entries with trip lengths less than 1 minute."
   ]
  },
  {
   "cell_type": "code",
   "execution_count": 21,
   "id": "f594334d",
   "metadata": {},
   "outputs": [],
   "source": [
    "df = df[df['trip_length'] >=1]"
   ]
  },
  {
   "cell_type": "markdown",
   "id": "d2143133",
   "metadata": {},
   "source": [
    "Now let's further check the credibility of the data"
   ]
  },
  {
   "cell_type": "code",
   "execution_count": 22,
   "id": "91892c93",
   "metadata": {},
   "outputs": [
    {
     "data": {
      "text/plain": [
       "array(['electric_bike', 'docked_bike', 'classic_bike'], dtype=object)"
      ]
     },
     "execution_count": 22,
     "metadata": {},
     "output_type": "execute_result"
    }
   ],
   "source": [
    "df.rideable_type.unique()"
   ]
  },
  {
   "cell_type": "code",
   "execution_count": 23,
   "id": "bb062d9c",
   "metadata": {},
   "outputs": [
    {
     "data": {
      "text/plain": [
       "array(['member', 'casual'], dtype=object)"
      ]
     },
     "execution_count": 23,
     "metadata": {},
     "output_type": "execute_result"
    }
   ],
   "source": [
    "df.member_casual.unique()"
   ]
  },
  {
   "cell_type": "code",
   "execution_count": 24,
   "id": "6e0da9ae",
   "metadata": {},
   "outputs": [
    {
     "data": {
      "text/plain": [
       "array(['November', 'June', 'April', 'May', 'October', 'July', 'August',\n",
       "       'September', 'December', 'January', 'March', 'February'],\n",
       "      dtype=object)"
      ]
     },
     "execution_count": 24,
     "metadata": {},
     "output_type": "execute_result"
    }
   ],
   "source": [
    "df.trip_month.unique()"
   ]
  },
  {
   "cell_type": "code",
   "execution_count": 25,
   "id": "12c9bca2",
   "metadata": {
    "scrolled": false
   },
   "outputs": [
    {
     "data": {
      "text/plain": [
       "array(['Friday', 'Monday', 'Wednesday', 'Saturday', 'Tuesday', 'Thursday',\n",
       "       'Sunday'], dtype=object)"
      ]
     },
     "execution_count": 25,
     "metadata": {},
     "output_type": "execute_result"
    }
   ],
   "source": [
    "df.trip_day.unique()"
   ]
  },
  {
   "cell_type": "markdown",
   "id": "55379b78",
   "metadata": {},
   "source": [
    "**Checking for outliers** \n",
    "\n",
    "Now we will run simple calculations to identify outliers and we will decide if we have to remove some of them."
   ]
  },
  {
   "cell_type": "code",
   "execution_count": 26,
   "id": "a7e3345d",
   "metadata": {},
   "outputs": [
    {
     "name": "stdout",
     "output_type": "stream",
     "text": [
      "21.022232962783953\n"
     ]
    }
   ],
   "source": [
    "df_mean = df['trip_length'].mean()\n",
    "print (df_mean)"
   ]
  },
  {
   "cell_type": "code",
   "execution_count": 27,
   "id": "a1a6d916",
   "metadata": {},
   "outputs": [
    {
     "name": "stdout",
     "output_type": "stream",
     "text": [
      "1852\n"
     ]
    }
   ],
   "source": [
    "df_max = df['trip_length'].max()\n",
    "print (df_max)"
   ]
  },
  {
   "cell_type": "code",
   "execution_count": 28,
   "id": "5a3a8cf3",
   "metadata": {},
   "outputs": [
    {
     "name": "stdout",
     "output_type": "stream",
     "text": [
      "1\n"
     ]
    }
   ],
   "source": [
    "df_min = df['trip_length'].min()\n",
    "print (df_min)"
   ]
  },
  {
   "cell_type": "markdown",
   "id": "10826ae6",
   "metadata": {},
   "source": [
    "We see a huge difference in time between the average and the maximum trip lengths. To examine our data further more we can  create a Boxplot to identify the outliers. Boxplot summarizes the data using 25th, 50th and 75th percentiles. One can get insights (quartiles, median and outliers) in to datasets by just looking at the boxplot."
   ]
  },
  {
   "cell_type": "code",
   "execution_count": 29,
   "id": "69567793",
   "metadata": {
    "scrolled": true
   },
   "outputs": [
    {
     "name": "stderr",
     "output_type": "stream",
     "text": [
      "C:\\Users\\menberu\\anaconda3\\lib\\site-packages\\seaborn\\_decorators.py:36: FutureWarning: Pass the following variable as a keyword arg: x. From version 0.12, the only valid positional argument will be `data`, and passing other arguments without an explicit keyword will result in an error or misinterpretation.\n",
      "  warnings.warn(\n"
     ]
    },
    {
     "data": {
      "text/plain": [
       "<AxesSubplot:xlabel='trip_length'>"
      ]
     },
     "execution_count": 29,
     "metadata": {},
     "output_type": "execute_result"
    },
    {
     "data": {
      "image/png": "[encoded data removed]",
      "text/plain": [
       "<Figure size 432x288 with 1 Axes>"
      ]
     },
     "metadata": {
      "needs_background": "light"
     },
     "output_type": "display_data"
    }
   ],
   "source": [
    "sns.boxplot(df['trip_length'])"
   ]
  },
  {
   "cell_type": "markdown",
   "id": "a2ad11fc",
   "metadata": {},
   "source": [
    "We can see our data has few outliers that needs to be removed from our dataset. Let's use the interquartile range (IQR) technique to help us understand the distribution of the data. "
   ]
  },
  {
   "cell_type": "code",
   "execution_count": 30,
   "id": "242ecdbe",
   "metadata": {},
   "outputs": [
    {
     "data": {
      "text/plain": [
       "14.0"
      ]
     },
     "execution_count": 30,
     "metadata": {},
     "output_type": "execute_result"
    }
   ],
   "source": [
    "Q1, Q2, Q3 = np.percentile(df['trip_length'], [25, 50, 75])\n",
    "IQR = Q3 - Q1\n",
    "IQR"
   ]
  },
  {
   "cell_type": "code",
   "execution_count": 31,
   "id": "980ef449",
   "metadata": {},
   "outputs": [
    {
     "data": {
      "text/plain": [
       "(-14.0, 42.0)"
      ]
     },
     "execution_count": 31,
     "metadata": {},
     "output_type": "execute_result"
    }
   ],
   "source": [
    "mini = Q1 - 1.5*IQR\n",
    "maxi = Q3 + 1.5*IQR\n",
    "\n",
    "(mini, maxi)"
   ]
  },
  {
   "cell_type": "markdown",
   "id": "c1ed025e",
   "metadata": {},
   "source": [
    "We know that our trip lengths are all positive values and we don't have to deal with the lower outlier gate. But there are many entries with values more than 42. So let's calculate the maximum and minimum points of the upper outlier gates."
   ]
  },
  {
   "cell_type": "code",
   "execution_count": 32,
   "id": "b9c40509",
   "metadata": {},
   "outputs": [
    {
     "name": "stdout",
     "output_type": "stream",
     "text": [
      "max point in upper outlier gate is 1852\n",
      "min point in upper outlier gate is 43\n"
     ]
    }
   ],
   "source": [
    "points = [x for x in df['trip_length'] if x > maxi]\n",
    "print('max point in upper outlier gate is', max(points))\n",
    "print('min point in upper outlier gate is', min(points))"
   ]
  },
  {
   "cell_type": "markdown",
   "id": "d8c0345d",
   "metadata": {},
   "source": [
    "According to the IQR, all values of the trip duration that are more than 42 minutes are to be considered as outliers.\n",
    "**However, outliers can occur by measurement errors or the data has a heavy-tailed distribution and we should not remove all of them from our dataset.** Having that in mind, keeping all the outliers will affect our analysis so let's just drop a few entries with extremly large values. "
   ]
  },
  {
   "cell_type": "code",
   "execution_count": 33,
   "id": "c8d4fa0c",
   "metadata": {},
   "outputs": [
    {
     "data": {
      "text/plain": [
       "ride_id          13\n",
       "rideable_type    13\n",
       "started_at       13\n",
       "ended_at         13\n",
       "member_casual    13\n",
       "trip_length      13\n",
       "trip_month       13\n",
       "trip_day         13\n",
       "dtype: int64"
      ]
     },
     "execution_count": 33,
     "metadata": {},
     "output_type": "execute_result"
    }
   ],
   "source": [
    "df[df['trip_length'] > 250].count()"
   ]
  },
  {
   "cell_type": "markdown",
   "id": "a880ef24",
   "metadata": {},
   "source": [
    "There are 13 entries that show trip lengths that are more than 250 minutes. These could be due to human error during data entry but we cannot be sure. Now let's drop those large values and get a better picture of the boxplot.  "
   ]
  },
  {
   "cell_type": "code",
   "execution_count": 34,
   "id": "a2d2379f",
   "metadata": {},
   "outputs": [],
   "source": [
    "df = df[df['trip_length'] <= 250]"
   ]
  },
  {
   "cell_type": "code",
   "execution_count": 35,
   "id": "7ae0c395",
   "metadata": {
    "scrolled": false
   },
   "outputs": [
    {
     "name": "stderr",
     "output_type": "stream",
     "text": [
      "C:\\Users\\menberu\\anaconda3\\lib\\site-packages\\seaborn\\_decorators.py:36: FutureWarning: Pass the following variable as a keyword arg: x. From version 0.12, the only valid positional argument will be `data`, and passing other arguments without an explicit keyword will result in an error or misinterpretation.\n",
      "  warnings.warn(\n"
     ]
    },
    {
     "data": {
      "text/plain": [
       "<AxesSubplot:xlabel='trip_length'>"
      ]
     },
     "execution_count": 35,
     "metadata": {},
     "output_type": "execute_result"
    },
    {
     "data": {
      "image/png": "[encoded data removed]",
      "text/plain": [
       "<Figure size 432x288 with 1 Axes>"
      ]
     },
     "metadata": {
      "needs_background": "light"
     },
     "output_type": "display_data"
    }
   ],
   "source": [
    "sns.boxplot(df['trip_length'])"
   ]
  },
  {
   "cell_type": "markdown",
   "id": "c2e08aba",
   "metadata": {},
   "source": [
    "Now that we have a squeaky clean data, we can proceed with the next phase of the analysis process.\n",
    "\n",
    "## Pahse 4 Analyze\n",
    "\n",
    "Now we are ready to perform calculations and identify trends and relationships in our data so we can generate a meaningful insight. \n",
    "\n",
    "Let's create a summary table and gain first insight regarding the behavior of the drivers. \n",
    "\n",
    "**Creating pivot table**"
   ]
  },
  {
   "cell_type": "code",
   "execution_count": 36,
   "id": "b48fd573",
   "metadata": {
    "scrolled": true
   },
   "outputs": [
    {
     "data": {
      "text/html": [
       "<div>\n",
       "<style scoped>\n",
       "    .dataframe tbody tr th:only-of-type {\n",
       "        vertical-align: middle;\n",
       "    }\n",
       "\n",
       "    .dataframe tbody tr th {\n",
       "        vertical-align: top;\n",
       "    }\n",
       "\n",
       "    .dataframe thead tr th {\n",
       "        text-align: left;\n",
       "    }\n",
       "\n",
       "    .dataframe thead tr:last-of-type th {\n",
       "        text-align: right;\n",
       "    }\n",
       "</style>\n",
       "<table border=\"1\" class=\"dataframe\">\n",
       "  <thead>\n",
       "    <tr>\n",
       "      <th></th>\n",
       "      <th>count</th>\n",
       "      <th>mean</th>\n",
       "      <th>max</th>\n",
       "      <th>min</th>\n",
       "    </tr>\n",
       "    <tr>\n",
       "      <th></th>\n",
       "      <th>trip_length</th>\n",
       "      <th>trip_length</th>\n",
       "      <th>trip_length</th>\n",
       "      <th>trip_length</th>\n",
       "    </tr>\n",
       "    <tr>\n",
       "      <th>member_casual</th>\n",
       "      <th></th>\n",
       "      <th></th>\n",
       "      <th></th>\n",
       "      <th></th>\n",
       "    </tr>\n",
       "  </thead>\n",
       "  <tbody>\n",
       "    <tr>\n",
       "      <th>casual</th>\n",
       "      <td>1853</td>\n",
       "      <td>25.260658</td>\n",
       "      <td>247</td>\n",
       "      <td>1</td>\n",
       "    </tr>\n",
       "    <tr>\n",
       "      <th>member</th>\n",
       "      <td>2272</td>\n",
       "      <td>12.732835</td>\n",
       "      <td>188</td>\n",
       "      <td>1</td>\n",
       "    </tr>\n",
       "    <tr>\n",
       "      <th>Total Ride</th>\n",
       "      <td>4125</td>\n",
       "      <td>18.360485</td>\n",
       "      <td>247</td>\n",
       "      <td>1</td>\n",
       "    </tr>\n",
       "  </tbody>\n",
       "</table>\n",
       "</div>"
      ],
      "text/plain": [
       "                    count        mean         max         min\n",
       "              trip_length trip_length trip_length trip_length\n",
       "member_casual                                                \n",
       "casual               1853   25.260658         247           1\n",
       "member               2272   12.732835         188           1\n",
       "Total Ride           4125   18.360485         247           1"
      ]
     },
     "execution_count": 36,
     "metadata": {},
     "output_type": "execute_result"
    }
   ],
   "source": [
    "pd.pivot_table(df,\n",
    "               index = 'member_casual',\n",
    "               values = ['trip_length'],\n",
    "               aggfunc = ['count','mean', 'max', 'min'],\n",
    "               margins = True,\n",
    "               margins_name = 'Total Ride')               "
   ]
  },
  {
   "cell_type": "markdown",
   "id": "b373ad57",
   "metadata": {},
   "source": [
    "**Key Insight**\n",
    "\n",
    "- Our data shows that there are more member bike users when compared with casual users \n",
    "- The average duration of trip taken by caual users is by far greater than that of the members\n",
    "- The maximum trip is taken by casual bike users"
   ]
  },
  {
   "cell_type": "code",
   "execution_count": 37,
   "id": "d7507907",
   "metadata": {
    "scrolled": false
   },
   "outputs": [
    {
     "data": {
      "text/html": [
       "<div>\n",
       "<style scoped>\n",
       "    .dataframe tbody tr th:only-of-type {\n",
       "        vertical-align: middle;\n",
       "    }\n",
       "\n",
       "    .dataframe tbody tr th {\n",
       "        vertical-align: top;\n",
       "    }\n",
       "\n",
       "    .dataframe thead tr th {\n",
       "        text-align: left;\n",
       "    }\n",
       "\n",
       "    .dataframe thead tr:last-of-type th {\n",
       "        text-align: right;\n",
       "    }\n",
       "</style>\n",
       "<table border=\"1\" class=\"dataframe\">\n",
       "  <thead>\n",
       "    <tr>\n",
       "      <th></th>\n",
       "      <th colspan=\"4\" halign=\"left\">mean</th>\n",
       "    </tr>\n",
       "    <tr>\n",
       "      <th>rideable_type</th>\n",
       "      <th>classic_bike</th>\n",
       "      <th>docked_bike</th>\n",
       "      <th>electric_bike</th>\n",
       "      <th>Total Ride</th>\n",
       "    </tr>\n",
       "    <tr>\n",
       "      <th>member_casual</th>\n",
       "      <th></th>\n",
       "      <th></th>\n",
       "      <th></th>\n",
       "      <th></th>\n",
       "    </tr>\n",
       "  </thead>\n",
       "  <tbody>\n",
       "    <tr>\n",
       "      <th>casual</th>\n",
       "      <td>25.699339</td>\n",
       "      <td>41.733032</td>\n",
       "      <td>19.682320</td>\n",
       "      <td>25.260658</td>\n",
       "    </tr>\n",
       "    <tr>\n",
       "      <th>member</th>\n",
       "      <td>12.638328</td>\n",
       "      <td>NaN</td>\n",
       "      <td>12.894863</td>\n",
       "      <td>12.732835</td>\n",
       "    </tr>\n",
       "    <tr>\n",
       "      <th>Total Ride</th>\n",
       "      <td>17.699957</td>\n",
       "      <td>41.733032</td>\n",
       "      <td>16.042921</td>\n",
       "      <td>18.360485</td>\n",
       "    </tr>\n",
       "  </tbody>\n",
       "</table>\n",
       "</div>"
      ],
      "text/plain": [
       "                      mean                                     \n",
       "rideable_type classic_bike docked_bike electric_bike Total Ride\n",
       "member_casual                                                  \n",
       "casual           25.699339   41.733032     19.682320  25.260658\n",
       "member           12.638328         NaN     12.894863  12.732835\n",
       "Total Ride       17.699957   41.733032     16.042921  18.360485"
      ]
     },
     "execution_count": 37,
     "metadata": {},
     "output_type": "execute_result"
    }
   ],
   "source": [
    "pd.pivot_table(df,\n",
    "               index = 'member_casual', \n",
    "               columns = 'rideable_type',\n",
    "               values = 'trip_length',\n",
    "               aggfunc = ['mean'],      \n",
    "               margins = True,\n",
    "               margins_name = 'Total Ride')   "
   ]
  },
  {
   "cell_type": "markdown",
   "id": "af5687db",
   "metadata": {},
   "source": [
    "**Key Insight**\n",
    "\n",
    "When we compare the type of bicycle the users are using more frequently;\n",
    "\n",
    "- Members tend to use classic bikes and electric bikes interchangebly\n",
    "- Casual users tend to use docked bikes the most followed by classic bikes and electric bikes\n",
    "- Docked bikes contribute the largest average trip duration"
   ]
  },
  {
   "cell_type": "markdown",
   "id": "6fcf0588",
   "metadata": {},
   "source": [
    "# Phase 5 Share\n",
    "\n",
    "Now let's further continue our analysis and support our findings with visualizations so we can present a meaningful insigh to our stakeholders at Cyclistic Bike-Share Company."
   ]
  },
  {
   "cell_type": "markdown",
   "id": "ca73bfe1",
   "metadata": {},
   "source": [
    "**Analysis based on duration of trips**\n",
    "\n",
    "Let's explore the trip duration among members and casual riders."
   ]
  },
  {
   "cell_type": "code",
   "execution_count": 38,
   "id": "c8c27913",
   "metadata": {
    "scrolled": false
   },
   "outputs": [
    {
     "data": {
      "text/plain": [
       "Text(0.5, 1.0, 'Members vs. Casual Drivers Trip Length')"
      ]
     },
     "execution_count": 38,
     "metadata": {},
     "output_type": "execute_result"
    },
    {
     "data": {
      "image/png": "[encoded data removed]",
      "text/plain": [
       "<Figure size 432x288 with 1 Axes>"
      ]
     },
     "metadata": {},
     "output_type": "display_data"
    }
   ],
   "source": [
    "member = df.groupby('member_casual').mean().reset_index(drop=False)[['member_casual', 'trip_length']]\n",
    "values = [i for i in member['trip_length']]\n",
    "labels = [j for j in member['member_casual']]\n",
    "colors = sns.color_palette('pastel')[0:2]\n",
    "plt.pie(values, labels=labels, autopct = '%.1f %%', explode=[0.01, 0.01], textprops={'fontsize': 13})\n",
    "plt.title('Members vs. Casual Drivers Trip Length', fontdict={'fontweight':'bold', 'fontsize':13})"
   ]
  },
  {
   "cell_type": "markdown",
   "id": "d5285158",
   "metadata": {},
   "source": [
    "**Analysis based on number of rides taken**\n",
    "\n",
    "Now we will see the percentage share of number of rides taken between members and casual riders."
   ]
  },
  {
   "cell_type": "code",
   "execution_count": 39,
   "id": "7f84b5be",
   "metadata": {
    "scrolled": false
   },
   "outputs": [
    {
     "data": {
      "text/plain": [
       "Text(0.5, 1.0, 'Members vs. Casual Total Count')"
      ]
     },
     "execution_count": 39,
     "metadata": {},
     "output_type": "execute_result"
    },
    {
     "data": {
      "image/png": "[encoded data removed]",
      "text/plain": [
       "<Figure size 432x288 with 1 Axes>"
      ]
     },
     "metadata": {},
     "output_type": "display_data"
    }
   ],
   "source": [
    "member = df.groupby('member_casual').count().reset_index(drop=False)[['member_casual', 'ride_id']]\n",
    "values = [i for i in member['ride_id']]\n",
    "labels = [j for j in member['member_casual']]\n",
    "colors = sns.color_palette('pastel')[0:2]\n",
    "plt.pie(values, labels=labels, autopct = '%.1f %%', explode=[0.01, 0.01], textprops={'fontsize': 13})\n",
    "plt.title('Members vs. Casual Total Count', fontdict={'fontweight':'bold', 'fontsize':13})"
   ]
  },
  {
   "cell_type": "markdown",
   "id": "302fe40f",
   "metadata": {},
   "source": [
    "**Key Insight**\n",
    "\n",
    "From the abover two pie charts we understand two major facts:\n",
    "\n",
    "- Cyclistic bike share company members make up the largest share interms of number of trips.\n",
    "\n",
    "- Though members make the largest share, casual users spend more time on the road.\n",
    "\n",
    "This could mean members tend to use the bikes for daily routines and for short distance commutes whereas, casual users use the bikes for recreational purposes and for longer distances.  "
   ]
  },
  {
   "cell_type": "markdown",
   "id": "ea2b9c0f",
   "metadata": {},
   "source": [
    "**Analyzing users based on type of bikes**\n",
    "\n",
    "Now we will see the trend of riders interms of the type of bikes they prefer to ride on. "
   ]
  },
  {
   "cell_type": "code",
   "execution_count": 40,
   "id": "66cfb03e",
   "metadata": {
    "scrolled": true
   },
   "outputs": [
    {
     "data": {
      "text/html": [
       "<div>\n",
       "<style scoped>\n",
       "    .dataframe tbody tr th:only-of-type {\n",
       "        vertical-align: middle;\n",
       "    }\n",
       "\n",
       "    .dataframe tbody tr th {\n",
       "        vertical-align: top;\n",
       "    }\n",
       "\n",
       "    .dataframe thead th {\n",
       "        text-align: right;\n",
       "    }\n",
       "</style>\n",
       "<table border=\"1\" class=\"dataframe\">\n",
       "  <thead>\n",
       "    <tr style=\"text-align: right;\">\n",
       "      <th></th>\n",
       "      <th>member_casual</th>\n",
       "      <th>rideable_type</th>\n",
       "      <th>total_trips</th>\n",
       "      <th>avg_trip_length</th>\n",
       "    </tr>\n",
       "  </thead>\n",
       "  <tbody>\n",
       "    <tr>\n",
       "      <th>0</th>\n",
       "      <td>casual</td>\n",
       "      <td>classic_bike</td>\n",
       "      <td>908</td>\n",
       "      <td>25.699339</td>\n",
       "    </tr>\n",
       "    <tr>\n",
       "      <th>1</th>\n",
       "      <td>casual</td>\n",
       "      <td>docked_bike</td>\n",
       "      <td>221</td>\n",
       "      <td>41.733032</td>\n",
       "    </tr>\n",
       "    <tr>\n",
       "      <th>2</th>\n",
       "      <td>casual</td>\n",
       "      <td>electric_bike</td>\n",
       "      <td>724</td>\n",
       "      <td>19.682320</td>\n",
       "    </tr>\n",
       "    <tr>\n",
       "      <th>3</th>\n",
       "      <td>member</td>\n",
       "      <td>classic_bike</td>\n",
       "      <td>1435</td>\n",
       "      <td>12.638328</td>\n",
       "    </tr>\n",
       "    <tr>\n",
       "      <th>4</th>\n",
       "      <td>member</td>\n",
       "      <td>electric_bike</td>\n",
       "      <td>837</td>\n",
       "      <td>12.894863</td>\n",
       "    </tr>\n",
       "  </tbody>\n",
       "</table>\n",
       "</div>"
      ],
      "text/plain": [
       "  member_casual  rideable_type  total_trips  avg_trip_length\n",
       "0        casual   classic_bike          908        25.699339\n",
       "1        casual    docked_bike          221        41.733032\n",
       "2        casual  electric_bike          724        19.682320\n",
       "3        member   classic_bike         1435        12.638328\n",
       "4        member  electric_bike          837        12.894863"
      ]
     },
     "execution_count": 40,
     "metadata": {},
     "output_type": "execute_result"
    }
   ],
   "source": [
    "bike_type = pd.pivot_table(df, index = ['member_casual', 'rideable_type'],\n",
    "            aggfunc = {'rideable_type':np.size, 'trip_length':np.mean}\n",
    "               ).rename(columns = {'rideable_type':'total_trips', 'trip_length':'avg_trip_length'}).reset_index()\n",
    "bike_type"
   ]
  },
  {
   "cell_type": "markdown",
   "id": "f1415b31",
   "metadata": {},
   "source": [
    "**Trip duration based on bike type**"
   ]
  },
  {
   "cell_type": "code",
   "execution_count": 41,
   "id": "ffdcffb3",
   "metadata": {
    "scrolled": true
   },
   "outputs": [
    {
     "data": {
      "image/png": "[encoded data removed]",
      "text/plain": [
       "<Figure size 720x360 with 2 Axes>"
      ]
     },
     "metadata": {
      "needs_background": "light"
     },
     "output_type": "display_data"
    }
   ],
   "source": [
    "g = sns.catplot(x = \"rideable_type\", y = \"avg_trip_length\", col='member_casual', data = bike_type, kind = \"bar\")\n",
    "g.fig.suptitle('Average Trip Length by Bike Type', fontdict={'fontweight':'bold', 'fontsize':15})\n",
    "g.set_titles(col_template=\"{col_name}\")\n",
    "g.set_axis_labels('', 'Trip Length (minutes)', fontdict={'fontweight':'bold', 'fontsize':10})\n",
    "g.set_xticklabels(['Classic', 'Docked', 'Electric'])\n",
    "\n",
    "plt.show()"
   ]
  },
  {
   "cell_type": "markdown",
   "id": "f1f670a3",
   "metadata": {},
   "source": [
    "**Number of riders based on bike types**"
   ]
  },
  {
   "cell_type": "code",
   "execution_count": 42,
   "id": "ab64c2c7",
   "metadata": {
    "scrolled": true
   },
   "outputs": [
    {
     "data": {
      "image/png": "[encoded data removed]",
      "text/plain": [
       "<Figure size 720x360 with 2 Axes>"
      ]
     },
     "metadata": {
      "needs_background": "light"
     },
     "output_type": "display_data"
    }
   ],
   "source": [
    "g = sns.catplot(x = \"rideable_type\", y = \"total_trips\", col='member_casual', data = bike_type, kind = \"bar\")\n",
    "g.fig.suptitle('Bike Type by Number of Drivers', fontdict={'fontweight':'bold', 'fontsize':15})\n",
    "g.set_titles(col_template=\"{col_name}\")\n",
    "g.set_axis_labels('', 'Count', fontdict={'fontweight':'bold', 'fontsize':10})\n",
    "g.set_xticklabels(['Classic', 'Docked', 'Electric'])\n",
    "\n",
    "plt.show()"
   ]
  },
  {
   "cell_type": "markdown",
   "id": "1b634e09",
   "metadata": {},
   "source": [
    "**Key Insight**\n",
    "\n",
    "From the above two bar graphs we understand:\n",
    "\n",
    "- The average time spent by members riding classic bikes and electric bikes is almost the same\n",
    "- Members tend to use classic bikes more and they don't prefer the docked bikes\n",
    "- Casual riders spend more time on the road riding docked bikes\n",
    "- Though Docked bikes are not used frequently they contribute the largest average trip duration\n",
    "- Both casual and member users use classic bikes more often followed by electric bikes"
   ]
  },
  {
   "cell_type": "markdown",
   "id": "2adf597f",
   "metadata": {},
   "source": [
    "**Analyzing users based on monthly distribution**\n",
    "\n",
    "Now we will further explore the trends of users interms of months. This will give us a clear understanding on how riders react to different seasons. "
   ]
  },
  {
   "cell_type": "code",
   "execution_count": 43,
   "id": "75d000c5",
   "metadata": {
    "scrolled": true
   },
   "outputs": [
    {
     "data": {
      "text/html": [
       "<div>\n",
       "<style scoped>\n",
       "    .dataframe tbody tr th:only-of-type {\n",
       "        vertical-align: middle;\n",
       "    }\n",
       "\n",
       "    .dataframe tbody tr th {\n",
       "        vertical-align: top;\n",
       "    }\n",
       "\n",
       "    .dataframe thead th {\n",
       "        text-align: right;\n",
       "    }\n",
       "</style>\n",
       "<table border=\"1\" class=\"dataframe\">\n",
       "  <thead>\n",
       "    <tr style=\"text-align: right;\">\n",
       "      <th></th>\n",
       "      <th>member_casual</th>\n",
       "      <th>trip_month</th>\n",
       "      <th>total_trips</th>\n",
       "      <th>avg_trip_length</th>\n",
       "    </tr>\n",
       "  </thead>\n",
       "  <tbody>\n",
       "    <tr>\n",
       "      <th>0</th>\n",
       "      <td>casual</td>\n",
       "      <td>April</td>\n",
       "      <td>110</td>\n",
       "      <td>29.890909</td>\n",
       "    </tr>\n",
       "    <tr>\n",
       "      <th>1</th>\n",
       "      <td>casual</td>\n",
       "      <td>August</td>\n",
       "      <td>316</td>\n",
       "      <td>22.946203</td>\n",
       "    </tr>\n",
       "    <tr>\n",
       "      <th>2</th>\n",
       "      <td>casual</td>\n",
       "      <td>December</td>\n",
       "      <td>49</td>\n",
       "      <td>18.918367</td>\n",
       "    </tr>\n",
       "    <tr>\n",
       "      <th>3</th>\n",
       "      <td>casual</td>\n",
       "      <td>February</td>\n",
       "      <td>10</td>\n",
       "      <td>23.500000</td>\n",
       "    </tr>\n",
       "    <tr>\n",
       "      <th>4</th>\n",
       "      <td>casual</td>\n",
       "      <td>January</td>\n",
       "      <td>7</td>\n",
       "      <td>19.428571</td>\n",
       "    </tr>\n",
       "    <tr>\n",
       "      <th>5</th>\n",
       "      <td>casual</td>\n",
       "      <td>July</td>\n",
       "      <td>327</td>\n",
       "      <td>27.143731</td>\n",
       "    </tr>\n",
       "    <tr>\n",
       "      <th>6</th>\n",
       "      <td>casual</td>\n",
       "      <td>June</td>\n",
       "      <td>268</td>\n",
       "      <td>29.708955</td>\n",
       "    </tr>\n",
       "    <tr>\n",
       "      <th>7</th>\n",
       "      <td>casual</td>\n",
       "      <td>March</td>\n",
       "      <td>55</td>\n",
       "      <td>33.000000</td>\n",
       "    </tr>\n",
       "    <tr>\n",
       "      <th>8</th>\n",
       "      <td>casual</td>\n",
       "      <td>May</td>\n",
       "      <td>203</td>\n",
       "      <td>26.916256</td>\n",
       "    </tr>\n",
       "    <tr>\n",
       "      <th>9</th>\n",
       "      <td>casual</td>\n",
       "      <td>November</td>\n",
       "      <td>73</td>\n",
       "      <td>19.479452</td>\n",
       "    </tr>\n",
       "    <tr>\n",
       "      <th>10</th>\n",
       "      <td>casual</td>\n",
       "      <td>October</td>\n",
       "      <td>193</td>\n",
       "      <td>19.611399</td>\n",
       "    </tr>\n",
       "    <tr>\n",
       "      <th>11</th>\n",
       "      <td>casual</td>\n",
       "      <td>September</td>\n",
       "      <td>242</td>\n",
       "      <td>23.334711</td>\n",
       "    </tr>\n",
       "    <tr>\n",
       "      <th>12</th>\n",
       "      <td>member</td>\n",
       "      <td>April</td>\n",
       "      <td>166</td>\n",
       "      <td>12.620482</td>\n",
       "    </tr>\n",
       "    <tr>\n",
       "      <th>13</th>\n",
       "      <td>member</td>\n",
       "      <td>August</td>\n",
       "      <td>279</td>\n",
       "      <td>12.476703</td>\n",
       "    </tr>\n",
       "    <tr>\n",
       "      <th>14</th>\n",
       "      <td>member</td>\n",
       "      <td>December</td>\n",
       "      <td>133</td>\n",
       "      <td>9.315789</td>\n",
       "    </tr>\n",
       "    <tr>\n",
       "      <th>15</th>\n",
       "      <td>member</td>\n",
       "      <td>February</td>\n",
       "      <td>30</td>\n",
       "      <td>16.566667</td>\n",
       "    </tr>\n",
       "    <tr>\n",
       "      <th>16</th>\n",
       "      <td>member</td>\n",
       "      <td>January</td>\n",
       "      <td>56</td>\n",
       "      <td>13.482143</td>\n",
       "    </tr>\n",
       "    <tr>\n",
       "      <th>17</th>\n",
       "      <td>member</td>\n",
       "      <td>July</td>\n",
       "      <td>272</td>\n",
       "      <td>14.224265</td>\n",
       "    </tr>\n",
       "    <tr>\n",
       "      <th>18</th>\n",
       "      <td>member</td>\n",
       "      <td>June</td>\n",
       "      <td>221</td>\n",
       "      <td>15.095023</td>\n",
       "    </tr>\n",
       "    <tr>\n",
       "      <th>19</th>\n",
       "      <td>member</td>\n",
       "      <td>March</td>\n",
       "      <td>102</td>\n",
       "      <td>12.343137</td>\n",
       "    </tr>\n",
       "    <tr>\n",
       "      <th>20</th>\n",
       "      <td>member</td>\n",
       "      <td>May</td>\n",
       "      <td>204</td>\n",
       "      <td>14.686275</td>\n",
       "    </tr>\n",
       "    <tr>\n",
       "      <th>21</th>\n",
       "      <td>member</td>\n",
       "      <td>November</td>\n",
       "      <td>212</td>\n",
       "      <td>10.117925</td>\n",
       "    </tr>\n",
       "    <tr>\n",
       "      <th>22</th>\n",
       "      <td>member</td>\n",
       "      <td>October</td>\n",
       "      <td>280</td>\n",
       "      <td>10.617857</td>\n",
       "    </tr>\n",
       "    <tr>\n",
       "      <th>23</th>\n",
       "      <td>member</td>\n",
       "      <td>September</td>\n",
       "      <td>317</td>\n",
       "      <td>13.514196</td>\n",
       "    </tr>\n",
       "  </tbody>\n",
       "</table>\n",
       "</div>"
      ],
      "text/plain": [
       "   member_casual trip_month  total_trips  avg_trip_length\n",
       "0         casual      April          110        29.890909\n",
       "1         casual     August          316        22.946203\n",
       "2         casual   December           49        18.918367\n",
       "3         casual   February           10        23.500000\n",
       "4         casual    January            7        19.428571\n",
       "5         casual       July          327        27.143731\n",
       "6         casual       June          268        29.708955\n",
       "7         casual      March           55        33.000000\n",
       "8         casual        May          203        26.916256\n",
       "9         casual   November           73        19.479452\n",
       "10        casual    October          193        19.611399\n",
       "11        casual  September          242        23.334711\n",
       "12        member      April          166        12.620482\n",
       "13        member     August          279        12.476703\n",
       "14        member   December          133         9.315789\n",
       "15        member   February           30        16.566667\n",
       "16        member    January           56        13.482143\n",
       "17        member       July          272        14.224265\n",
       "18        member       June          221        15.095023\n",
       "19        member      March          102        12.343137\n",
       "20        member        May          204        14.686275\n",
       "21        member   November          212        10.117925\n",
       "22        member    October          280        10.617857\n",
       "23        member  September          317        13.514196"
      ]
     },
     "execution_count": 43,
     "metadata": {},
     "output_type": "execute_result"
    }
   ],
   "source": [
    "monthly_trips = pd.pivot_table(df, index = ['member_casual','trip_month'], \n",
    "              aggfunc = {'member_casual':np.size, 'trip_length':np.mean}\n",
    "               ).rename(columns = {'member_casual':'total_trips', 'trip_length':'avg_trip_length'}).reset_index()\n",
    "\n",
    "months = ['January', 'February', 'March', 'April', 'May', 'June', 'July', 'August', 'September', 'October', 'November', 'December']\n",
    "monthly_trips['trip_month'] = pd.Categorical(monthly_trips['trip_month'], categories = months, ordered=True)\n",
    "\n",
    "monthly_trips"
   ]
  },
  {
   "cell_type": "markdown",
   "id": "dd1b4051",
   "metadata": {},
   "source": [
    "**Average trip length for each month**"
   ]
  },
  {
   "cell_type": "code",
   "execution_count": 44,
   "id": "2ff58cd9",
   "metadata": {
    "scrolled": false
   },
   "outputs": [
    {
     "data": {
      "text/plain": [
       "Text(0, 0.5, 'Trip Length (minutes)')"
      ]
     },
     "execution_count": 44,
     "metadata": {},
     "output_type": "execute_result"
    },
    {
     "data": {
      "image/png": "[encoded data removed]",
      "text/plain": [
       "<Figure size 864x432 with 1 Axes>"
      ]
     },
     "metadata": {
      "needs_background": "light"
     },
     "output_type": "display_data"
    }
   ],
   "source": [
    "plt.figure(figsize=(12, 6))\n",
    "sns.lineplot(data=monthly_trips, \n",
    "            x=\"trip_month\", \n",
    "            y=\"avg_trip_length\", \n",
    "            hue=\"member_casual\")\n",
    "plt.title('Average Monthly Trip Distribution', fontdict={'fontweight':'bold', 'fontsize':13})\n",
    "plt.xlabel('')\n",
    "plt.ylabel('Trip Length (minutes)', fontdict={'fontweight':'bold', 'fontsize':10})\n"
   ]
  },
  {
   "cell_type": "markdown",
   "id": "202c6e28",
   "metadata": {},
   "source": [
    "**Number of trips taken each month**"
   ]
  },
  {
   "cell_type": "code",
   "execution_count": 45,
   "id": "5d24ebba",
   "metadata": {
    "scrolled": true
   },
   "outputs": [
    {
     "data": {
      "text/plain": [
       "Text(0, 0.5, 'Count')"
      ]
     },
     "execution_count": 45,
     "metadata": {},
     "output_type": "execute_result"
    },
    {
     "data": {
      "image/png": "[encoded data removed]",
      "text/plain": [
       "<Figure size 864x432 with 1 Axes>"
      ]
     },
     "metadata": {
      "needs_background": "light"
     },
     "output_type": "display_data"
    }
   ],
   "source": [
    "plt.figure(figsize=(12, 6))\n",
    "sns.lineplot(data=monthly_trips, \n",
    "            x=\"trip_month\", \n",
    "            y=\"total_trips\", \n",
    "            hue=\"member_casual\")\n",
    "plt.title('Monthly Trip Distribution by Number of Drivers', fontdict={'fontweight':'bold', 'fontsize':13})\n",
    "plt.xlabel('')\n",
    "plt.ylabel('Count', fontdict={'fontweight':'bold', 'fontsize':10})"
   ]
  },
  {
   "cell_type": "markdown",
   "id": "121dff0d",
   "metadata": {},
   "source": [
    "**Key Insight**\n",
    "\n",
    "The above two line charts explain how users react to different seasons\n",
    "\n",
    "- Both member and casual users tend to be on the road during summer time (June, July and August)\n",
    "- The lowest bike usage were recorded during winter times. Users tend to use an alternative means of transportation that are more conducive to the cold weather.\n",
    "- Casual users spend more time on the road during spring and summer times between March and September, where the highest average trip duration observed in March. \n",
    "- Members use bikes in a more uniform pattern for most of the months between March and September and a slight decrease in average trip length were observed for the months between October and January. Then an increase in average trip recorded for the months of January and February, February being the max. "
   ]
  },
  {
   "cell_type": "markdown",
   "id": "be3c0768",
   "metadata": {},
   "source": [
    "**Analyzing trips during days of the week**\n",
    "\n",
    "Now let's further explore our data to learn more about how users behave during days of the week."
   ]
  },
  {
   "cell_type": "code",
   "execution_count": 46,
   "id": "ee3dbbbc",
   "metadata": {
    "scrolled": true
   },
   "outputs": [
    {
     "data": {
      "text/html": [
       "<div>\n",
       "<style scoped>\n",
       "    .dataframe tbody tr th:only-of-type {\n",
       "        vertical-align: middle;\n",
       "    }\n",
       "\n",
       "    .dataframe tbody tr th {\n",
       "        vertical-align: top;\n",
       "    }\n",
       "\n",
       "    .dataframe thead th {\n",
       "        text-align: right;\n",
       "    }\n",
       "</style>\n",
       "<table border=\"1\" class=\"dataframe\">\n",
       "  <thead>\n",
       "    <tr style=\"text-align: right;\">\n",
       "      <th></th>\n",
       "      <th>member_casual</th>\n",
       "      <th>trip_day</th>\n",
       "      <th>total_trips</th>\n",
       "      <th>avg_trip_length</th>\n",
       "    </tr>\n",
       "  </thead>\n",
       "  <tbody>\n",
       "    <tr>\n",
       "      <th>0</th>\n",
       "      <td>casual</td>\n",
       "      <td>Friday</td>\n",
       "      <td>271</td>\n",
       "      <td>25.439114</td>\n",
       "    </tr>\n",
       "    <tr>\n",
       "      <th>1</th>\n",
       "      <td>casual</td>\n",
       "      <td>Monday</td>\n",
       "      <td>209</td>\n",
       "      <td>26.167464</td>\n",
       "    </tr>\n",
       "    <tr>\n",
       "      <th>2</th>\n",
       "      <td>casual</td>\n",
       "      <td>Saturday</td>\n",
       "      <td>431</td>\n",
       "      <td>27.299304</td>\n",
       "    </tr>\n",
       "    <tr>\n",
       "      <th>3</th>\n",
       "      <td>casual</td>\n",
       "      <td>Sunday</td>\n",
       "      <td>324</td>\n",
       "      <td>30.259259</td>\n",
       "    </tr>\n",
       "    <tr>\n",
       "      <th>4</th>\n",
       "      <td>casual</td>\n",
       "      <td>Thursday</td>\n",
       "      <td>217</td>\n",
       "      <td>20.078341</td>\n",
       "    </tr>\n",
       "    <tr>\n",
       "      <th>5</th>\n",
       "      <td>casual</td>\n",
       "      <td>Tuesday</td>\n",
       "      <td>202</td>\n",
       "      <td>20.034653</td>\n",
       "    </tr>\n",
       "    <tr>\n",
       "      <th>6</th>\n",
       "      <td>casual</td>\n",
       "      <td>Wednesday</td>\n",
       "      <td>199</td>\n",
       "      <td>22.467337</td>\n",
       "    </tr>\n",
       "    <tr>\n",
       "      <th>7</th>\n",
       "      <td>member</td>\n",
       "      <td>Friday</td>\n",
       "      <td>338</td>\n",
       "      <td>12.476331</td>\n",
       "    </tr>\n",
       "    <tr>\n",
       "      <th>8</th>\n",
       "      <td>member</td>\n",
       "      <td>Monday</td>\n",
       "      <td>320</td>\n",
       "      <td>12.059375</td>\n",
       "    </tr>\n",
       "    <tr>\n",
       "      <th>9</th>\n",
       "      <td>member</td>\n",
       "      <td>Saturday</td>\n",
       "      <td>326</td>\n",
       "      <td>13.631902</td>\n",
       "    </tr>\n",
       "    <tr>\n",
       "      <th>10</th>\n",
       "      <td>member</td>\n",
       "      <td>Sunday</td>\n",
       "      <td>279</td>\n",
       "      <td>15.340502</td>\n",
       "    </tr>\n",
       "    <tr>\n",
       "      <th>11</th>\n",
       "      <td>member</td>\n",
       "      <td>Thursday</td>\n",
       "      <td>330</td>\n",
       "      <td>11.657576</td>\n",
       "    </tr>\n",
       "    <tr>\n",
       "      <th>12</th>\n",
       "      <td>member</td>\n",
       "      <td>Tuesday</td>\n",
       "      <td>343</td>\n",
       "      <td>11.941691</td>\n",
       "    </tr>\n",
       "    <tr>\n",
       "      <th>13</th>\n",
       "      <td>member</td>\n",
       "      <td>Wednesday</td>\n",
       "      <td>336</td>\n",
       "      <td>12.458333</td>\n",
       "    </tr>\n",
       "  </tbody>\n",
       "</table>\n",
       "</div>"
      ],
      "text/plain": [
       "   member_casual   trip_day  total_trips  avg_trip_length\n",
       "0         casual     Friday          271        25.439114\n",
       "1         casual     Monday          209        26.167464\n",
       "2         casual   Saturday          431        27.299304\n",
       "3         casual     Sunday          324        30.259259\n",
       "4         casual   Thursday          217        20.078341\n",
       "5         casual    Tuesday          202        20.034653\n",
       "6         casual  Wednesday          199        22.467337\n",
       "7         member     Friday          338        12.476331\n",
       "8         member     Monday          320        12.059375\n",
       "9         member   Saturday          326        13.631902\n",
       "10        member     Sunday          279        15.340502\n",
       "11        member   Thursday          330        11.657576\n",
       "12        member    Tuesday          343        11.941691\n",
       "13        member  Wednesday          336        12.458333"
      ]
     },
     "execution_count": 46,
     "metadata": {},
     "output_type": "execute_result"
    }
   ],
   "source": [
    "weekly_trips = pd.pivot_table(df, index = ['member_casual','trip_day'], \n",
    "              aggfunc = {'member_casual':np.size, 'trip_length':np.mean}\n",
    "               ).rename(columns = {'member_casual':'total_trips', 'trip_length':'avg_trip_length'}).reset_index()\n",
    "\n",
    "days = ['Sunday', 'Monday', 'Tuesday', 'Wednesday', 'Thursday', 'Friday', 'Saturday']\n",
    "weekly_trips['trip_day'] = pd.Categorical(weekly_trips['trip_day'], categories = days, ordered=True)\n",
    "\n",
    "\n",
    "weekly_trips"
   ]
  },
  {
   "cell_type": "markdown",
   "id": "9afe459a",
   "metadata": {},
   "source": [
    "**Average trip length for days of the week**"
   ]
  },
  {
   "cell_type": "code",
   "execution_count": 47,
   "id": "02f28fed",
   "metadata": {
    "scrolled": true
   },
   "outputs": [
    {
     "data": {
      "text/plain": [
       "Text(0, 0.5, 'Trip Length (minutes)')"
      ]
     },
     "execution_count": 47,
     "metadata": {},
     "output_type": "execute_result"
    },
    {
     "data": {
      "image/png": "[encoded data removed]",
      "text/plain": [
       "<Figure size 864x432 with 1 Axes>"
      ]
     },
     "metadata": {
      "needs_background": "light"
     },
     "output_type": "display_data"
    }
   ],
   "source": [
    "plt.figure(figsize=(12, 6))\n",
    "sns.barplot(data=weekly_trips, \n",
    "            x=\"trip_day\", \n",
    "            y=\"avg_trip_length\", \n",
    "            hue=\"member_casual\")\n",
    "plt.title('Average Weekly Trip Distribution', fontdict={'fontweight':'bold', 'fontsize':13})\n",
    "plt.xlabel('')\n",
    "plt.ylabel('Trip Length (minutes)', fontdict={'fontweight':'bold', 'fontsize':10})"
   ]
  },
  {
   "cell_type": "markdown",
   "id": "ab5d0f43",
   "metadata": {},
   "source": [
    "**Number of trips taken in a week**"
   ]
  },
  {
   "cell_type": "code",
   "execution_count": 48,
   "id": "28129da3",
   "metadata": {
    "scrolled": true
   },
   "outputs": [
    {
     "data": {
      "text/plain": [
       "Text(0, 0.5, 'Count')"
      ]
     },
     "execution_count": 48,
     "metadata": {},
     "output_type": "execute_result"
    },
    {
     "data": {
      "image/png": "[encoded data removed]",
      "text/plain": [
       "<Figure size 864x432 with 1 Axes>"
      ]
     },
     "metadata": {
      "needs_background": "light"
     },
     "output_type": "display_data"
    }
   ],
   "source": [
    "plt.figure(figsize=(12, 6))\n",
    "sns.barplot(data=weekly_trips, \n",
    "            x=\"trip_day\", \n",
    "            y=\"total_trips\", \n",
    "            hue=\"member_casual\")\n",
    "plt.title('Weekly Trip Distribution by Number of Drivers', fontdict={'fontweight':'bold', 'fontsize':13})\n",
    "plt.xlabel('')\n",
    "plt.ylabel('Count', fontdict={'fontweight':'bold', 'fontsize':10})"
   ]
  },
  {
   "cell_type": "markdown",
   "id": "8d61533d",
   "metadata": {},
   "source": [
    "**Key Insight**\n",
    "\n",
    "The following observations were made from the above barplots:\n",
    "\n",
    "- Both members and casual users spend most of the time on the road during weekends where the highest average trip length recorded on Sunday for both users\n",
    "- Casual users reportedly spend more time on the road through out the week when compared to members\n",
    "- Members tend to use bike during week days more than casual users. This could mean members use bikes for commuting purposes on daily bases \n",
    "- Casual users use bikes on weekends more than members, Saturday being the max. This shows that casual users use bikes for recreational purposes."
   ]
  },
  {
   "cell_type": "markdown",
   "id": "14a8a5a3",
   "metadata": {},
   "source": [
    "## Phase 6 Act\n",
    "\n",
    "**Final Conclusions** \n",
    "\n",
    "\n",
    "- Casual riders spend more time using Cyclistic's services when compared to members\n",
    "- Weekends and summer times contribute the largest average trip lengths\n",
    "- Though classic bikes are more prefered by both users, docked bikes make up the largest average trip duration\n",
    "- Activities in winter times are the lowest\n",
    "\n",
    "**Recommendations**\n",
    "\n",
    "- In general, Cyclistic can attract users to become members by promoting the benefits of using bikes in regards to healthy lifestyle, improved air quality, congestion and traffic. \n",
    "- Cyclistic can introduce new annual membership package for weekend users only to attract casual riders.\n",
    "- Due to the seasonal nature of bike usage, Cyclistic can offer users with different multiple membership plans. A 6-months membership plan would be ideal to attract casual riders for spring and summer times. \n",
    "-  Since casual members are reportedly seen using bikes for recreational purposes, aiming the business strategy towards tourism and entertainment aspects could encourage casual members to consider buying membership."
   ]
  }
 ],
 "metadata": {
  "kernelspec": {
   "display_name": "Python 3 (ipykernel)",
   "language": "python",
   "name": "python3"
  },
  "language_info": {
   "codemirror_mode": {
    "name": "ipython",
    "version": 3
   },
   "file_extension": ".py",
   "mimetype": "text/x-python",
   "name": "python",
   "nbconvert_exporter": "python",
   "pygments_lexer": "ipython3",
   "version": "3.9.7"
  }
 },
 "nbformat": 4,
 "nbformat_minor": 5
}
